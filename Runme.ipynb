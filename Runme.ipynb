{
 "cells": [
  {
   "cell_type": "markdown",
   "metadata": {
    "id": "gBbBIZ6bzIDL"
   },
   "source": [
    "#Q1 Building the model\n",
    "\n",
    "$p(S1) =N(s1,\\mu_{s_1},\\Sigma_{s_1})$\n",
    "\n",
    "$p(S2) =N(s2,\\mu_{s_2},\\Sigma_{s_2})$   \n",
    "\n",
    "$p(t|s) = N(t, s_1-s_2 , \\Sigma_{t})$  \n",
    "\n",
    "$p(y|t) = sign(t)$\n",
    "\n",
    "$p(s_1,s_2,t,y) = p(s_1)p(s_2)p(t|s_1,s_2)p(y|t)$\n",
    "_________________________"
   ]
  },
  {
   "cell_type": "markdown",
   "metadata": {
    "id": "Tkj-6xwtz7AS"
   },
   "source": [
    "#Q2.Conditional independence:\n",
    "\n",
    "\n",
    "$p(s,y|t)= \\frac{p(s)p(s|t)p(t)p(y|t)}{p(s)P(t)} $\n",
    "\n",
    "$p(s,y|t) = p(s|t)p(y|t)$ \n",
    "\n",
    "so \n",
    "$s ⊥ y|t $\n",
    "\n",
    "*Refrence-> Lec1 p(29/33)"
   ]
  },
  {
   "cell_type": "markdown",
   "metadata": {
    "id": "zZcmyHgp0IMI"
   },
   "source": [
    "# Q.3 Computing with the model (Lecture 2)"
   ]
  },
  {
   "cell_type": "code",
   "execution_count": 1,
   "metadata": {
    "id": "-QSJjCcfOuBi"
   },
   "outputs": [],
   "source": [
    "import numpy as np\n",
    "import math\n",
    "import scipy.stats\n",
    "import matplotlib.pyplot as plt\n",
    "from scipy.integrate import quad\n",
    "import pandas as pd\n"
   ]
  },
  {
   "cell_type": "code",
   "execution_count": 2,
   "metadata": {
    "id": "qJAAt3gRV3Om"
   },
   "outputs": [],
   "source": [
    "#needed Variables for calculations\n",
    "\n",
    "A = np.array([1,-1])\n",
    "b =0\n",
    "t=3\n",
    "co_s= np.array([[1,0],[0,4]])\n",
    "co_ts = 5\n",
    "A_trans= A[:,None]\n",
    "#A_trans= np.transpose(A)\n",
    "Ms= np.array([1,-1])\n",
    "Ms_trans = Ms[:,None]\n",
    "\n",
    "\n"
   ]
  },
  {
   "cell_type": "markdown",
   "metadata": {
    "id": "QjWAsybwlDiI"
   },
   "source": [
    "\n",
    "## Part 1:\n",
    "###Gauss Corollary1 (Affine transformation – conditional)\n",
    "\n",
    "$p(s)= N(s ,M_s, \\Sigma_s )$   \n",
    "$p(t|s) = N(t; A s+b , \\Sigma_{t\\vert s} )$\n",
    "\n",
    "Then the conditional distribution of $x_s$ given $x_t$ is \n",
    "\n",
    "$p(s|t)= N(s; μ_{s|t} ,\\Sigma_{s\\vert t}  )$\n",
    " \n",
    "with\n",
    "\n",
    "$\\Sigma_{s\\vert t} = (\\Sigma_{s}^{-1} + A^T \\Sigma_{t|s}^{-1} A )^ {-1} $\n",
    "\n",
    "$μ_{s|t} = \\Sigma_{s\\vert t} (\\Sigma_{s}^{-1} μ_s + A^T \\Sigma_{t|s}^{-1} (t −b))$\n",
    "\n"
   ]
  },
  {
   "cell_type": "code",
   "execution_count": 3,
   "metadata": {
    "id": "QIhuAQijRQGg"
   },
   "outputs": [],
   "source": [
    "#segma_s|t for conditional distribution\n",
    "co_st = np.linalg.inv(np.linalg.inv(co_s) + (A_trans* (1/co_ts)*A))"
   ]
  },
  {
   "cell_type": "code",
   "execution_count": 4,
   "metadata": {
    "id": "WWm3J8xzR-ka"
   },
   "outputs": [],
   "source": [
    "#Mu_s|t for conditional distribution\n",
    "term1= np.linalg.inv(co_s)@Ms_trans\n",
    "term2= A_trans *(1/co_ts) * t\n",
    "\n",
    "M_st= co_st@(term1+ term2)"
   ]
  },
  {
   "cell_type": "code",
   "execution_count": 5,
   "metadata": {
    "colab": {
     "base_uri": "https://localhost:8080/"
    },
    "id": "IbN1TT1xTd-h",
    "outputId": "12092275-7bf1-43da-f04b-5a620f8cb7a0"
   },
   "outputs": [
    {
     "name": "stdout",
     "output_type": "stream",
     "text": [
      "Mu_s|t =  [[ 1.1]\n",
      " [-1.4]]\n",
      "segma_s|t = [[0.9 0.4]\n",
      " [0.4 2.4]]\n"
     ]
    }
   ],
   "source": [
    "print(\"Mu_s|t = \",M_st)\n",
    "print(\"segma_s|t =\",co_st)"
   ]
  },
  {
   "cell_type": "markdown",
   "metadata": {
    "id": "WS27V_-dVu2o"
   },
   "source": [
    "## Part 2:\n",
    "###Truncated Gaussian\n",
    "\n",
    "$p(t|s_1,s_2,y) = p(y|t) p(t|s_1, s_2)$\n",
    "\n",
    "$p(y|t)= sign(t)$\n",
    "\n",
    "$p(t|s_1, s_2) = N(t; s_1 - s_2 , \\sigma_{t}^2 )$\n",
    "\n",
    "Given that $s_1 = 2 , s_2 = 1 , \\sigma_t ^{2} = 5$ so \n",
    "\n",
    "$$\n",
    "p(t|s_1,s_2,y)=\n",
    "  \\begin{cases}\n",
    "    N(t; 1 , 5 )       & \\quad \\text{if }0 < t< \\infty \\\\\n",
    "    0  & \\quad \\text otherwise\n",
    "  \\end{cases}\n",
    "$$\n"
   ]
  },
  {
   "cell_type": "markdown",
   "metadata": {
    "id": "RbvMI00a7HSy"
   },
   "source": [
    "## Part 3:\n",
    "###Corollary 2 (Affine transformation – Marginalization):\n",
    "\n",
    "\n",
    "The target is to find $p(y=1) = p(t>0)$\n",
    "\n",
    "In order to get $p(t>0)$ we use Gauss corollay2:\n",
    "\n",
    "$p(s) = N( s; μ_s, \\Sigma_s) $\n",
    "\n",
    "$p(t| s) = N(t; A s + b, \\Sigma_{t|s}) $\n",
    "\n",
    "Then $p(t) = N(t; \\mu_t , \\Sigma_{t})$ \n",
    "\n",
    "$\\mu_t = A \\mu_s + b $\n",
    "\n",
    "$\\Sigma_t = \\Sigma_{t|s} + A\\Sigma_s A^T$\n",
    "\n",
    "Then $get p(t>0) = \\int_{\\inf}^{0} p(t) \\,dt $\n",
    "\n",
    "<!-- Theorem 3 (Affine transformation): \n",
    "*$p(s) = N( s; μ_s, \\Sigma_s) $  \n",
    "\n",
    "*$p(t| s) = N(t; A s + b, \\Sigma_{t|s}) $\n",
    "\n",
    "$P(s,t)= N(\\begin{bmatrix}\n",
    "s \\\\\n",
    "t\n",
    "\\end{bmatrix} , \\begin{bmatrix}\n",
    "μ_s \\\\\n",
    "Aμ_s+b\n",
    "\\end{bmatrix}, R )$\n",
    "\n",
    "$$R = \\begin{bmatrix}\n",
    "\\Sigma_a & \\Sigma_a A^T\\\\\n",
    "A \\Sigma_a & \\Sigma_{b|a} + A \\Sigma_a A^T\n",
    "\\end{bmatrix}\n",
    "$$ -->\n"
   ]
  },
  {
   "cell_type": "markdown",
   "metadata": {
    "id": "C42psgKYngnW"
   },
   "source": [
    "<!-- ______________________________\n",
    "###Theorem 1 (Conditioning):\n",
    "Now we have $p(s,t)$ from theorem 1 we can get $p(t) $\n",
    "\n",
    "$p(s,t) = \\begin{bmatrix}\n",
    "t\\\\\n",
    "s\n",
    "\\end{bmatrix}\n",
    "$ , \n",
    "\n",
    "$\\mu = \\begin{bmatrix}\n",
    "\\mu_t  \\\\\n",
    "\\mu_s\n",
    "\\end{bmatrix}\n",
    "$\n",
    "\n",
    "$\\Sigma = \\begin{bmatrix}\n",
    "\\Sigma_{tt} & \\Sigma_{ts} \\\\\n",
    "\\Sigma_{st} & \\Sigma_{ss}\n",
    "\\end{bmatrix}\n",
    "$\n",
    "\n",
    "The marginal distribution $p(t)$ is then given by\n",
    "\n",
    "$p(t) = N(t; μ_t, \\Sigma_{tt}) .$ -->"
   ]
  },
  {
   "cell_type": "code",
   "execution_count": 6,
   "metadata": {
    "colab": {
     "base_uri": "https://localhost:8080/"
    },
    "id": "hhKmdxoXjqxP",
    "outputId": "e84d540d-3b17-400f-951a-2eaabfe4d1db"
   },
   "outputs": [
    {
     "name": "stdout",
     "output_type": "stream",
     "text": [
      "(0.736455371567231, 4.947251011234974e-09)\n"
     ]
    }
   ],
   "source": [
    "#Calculate p(t)\n",
    "Mt_2 = (A@Ms) + b\n",
    "co_t2 = co_ts + (A@co_s@A_trans)\n",
    "# print(\"Mb_2 = \",Mt_2)\n",
    "# print(\"co_b2=\",co_t2)\n",
    "\n",
    "#Calculate the integration for positive t\n",
    "lowerbound = 0\n",
    "upperbound = np.inf\n",
    "\n",
    "# generate Gaussian function\n",
    "def gauss(tt, mean, std): # REVISION\n",
    "    return scipy.stats.norm.pdf(tt, mean, std) # REVISION \n",
    "\n",
    "mean = Mt_2 # REVISION\n",
    "std = np.sqrt(co_t2) # REVISION\n",
    "\n",
    "# integrate between bounds\n",
    "integral = scipy.integrate.quad(gauss, lowerbound, upperbound, args=(mean, std)) # REVISION\n",
    "print(integral)\n"
   ]
  },
  {
   "cell_type": "code",
   "execution_count": 7,
   "metadata": {
    "id": "1QYpGqLS8lTw"
   },
   "outputs": [],
   "source": [
    "# def normal_dist(x , mean , sd):\n",
    "#     term1 = 1/(math.sqrt(2*np.pi*sd))\n",
    "#     term2 = - 0.5 * ((x-mean)**2 )/ sd\n",
    "#     prob_density = term1 * np.exp(term2)\n",
    "#     #prob_density = (1/(math.sqrt(2*np.pi*sd))) * np.exp(-0.5*((x-mean)/sd)**2)\n",
    "#     return prob_density\n",
    "\n",
    "# normal_dist(t,Mb_2,co_b2_r)"
   ]
  },
  {
   "cell_type": "markdown",
   "metadata": {
    "id": "QXp3Q3xP5vWe"
   },
   "source": [
    "#Q4. Bayesian Network\n",
    "\n",
    "##Designed bayesian Network for the model :\n",
    "\n",
    "<img src='https://drive.google.com/uc?id=1urEGrkVWd4y7SWCFm8VKgRWlnPkf21eT' width=\"200px\">\n",
    "\n",
    "\n",
    "*Refrence -> Lec 6 p(23/34)"
   ]
  },
  {
   "cell_type": "markdown",
   "metadata": {
    "id": "63AKBHd54BmS"
   },
   "source": [
    "##Prov:\n",
    "\n",
    "Notice that t is observed \n",
    "\n",
    "$$\n",
    "\\begin{equation}\n",
    "\\begin{split}\n",
    "P(s,y|t) & = \\frac{p(s,y,t)}{p(t)} \\\\\n",
    " & = \\frac{p(y|t)p(s|t)p(s)}{p(t)} \\\\\n",
    "& = p(y|t)p(s|t)\n",
    "\\end{split}\n",
    "\\end{equation} $$"
   ]
  },
  {
   "cell_type": "markdown",
   "metadata": {
    "id": "Fp3CGj014PA4"
   },
   "source": [
    "##Q5.\n",
    "From Q3 we have:\n",
    "\n",
    "$p(s|t)= N(s; \\begin{bmatrix}\n",
    "1.1\\\\\n",
    "-1.4\n",
    "\\end{bmatrix} ,\\begin{bmatrix}\n",
    "0.9 & 0.4 \\\\\n",
    "0.4 & 2.4\n",
    "\\end{bmatrix}  )$\n",
    "\n",
    "$$\n",
    "p(t|s_1,s_2,y)=\n",
    "  \\begin{cases}\n",
    "    N(t; 1 , 5 )       & \\quad \\text{if }0 < t< \\infty \\\\\n",
    "    0  & \\quad \\text otherwise\n",
    "  \\end{cases}\n",
    "$$\n",
    "\n",
    "$p(t) = N(t; 2 , 10)$ \n",
    "\n",
    "\n",
    "requirement:\n",
    "p(s1, s2|y) = Gibbs sampler()"
   ]
  },
  {
   "cell_type": "code",
   "execution_count": 8,
   "metadata": {
    "id": "TZgZjtSX30cv"
   },
   "outputs": [],
   "source": [
    "import scipy.stats as stats #REV\n",
    "import matplotlib.pyplot as plt\n",
    "\n",
    "#Algorithm:\n",
    "#1- i= 1,2,3,...k\n",
    "#2- simulate \n",
    "#S_1(i+1) = p(s_1_i|t_i)\n",
    "#S_2(i+1) = p(s_2_i|t_i)\n",
    "#t(i+1) = p(t_i|s_1_i,s_2_i,y)\n",
    "\n",
    "#initialization of variables\n",
    "#s_1 and S_2 has same variables\n",
    "segma_s1 = 25/3\n",
    "segma_s2 = 25/3\n",
    "\n",
    "mu_s1 = 25\n",
    "mu_s2 = 25\n",
    "segma_t = 25/6\n",
    "\n",
    "co_s = [[segma_s1**2,0],[0,segma_s2**2]]\n",
    "A = np.array([1,-1]) # REV\n",
    "A_trans = A[:, None]\n",
    "co_ts = 5\n",
    "Ms= np.array([mu_s1,mu_s2])\n",
    "Ms_trans=Ms[:, None]\n",
    "\n",
    "n_iterations = 1000\n",
    "\n",
    "y=1\n",
    "s_1 = np.zeros(n_iterations)\n",
    "s_2 = np.zeros(n_iterations)\n",
    "t = np.zeros(n_iterations)\n",
    "\n",
    "#Gibbs Function\n",
    "def Gibbs(mu_s1,mu_s2,segma_t,y,n_iterations, co_s , A, co_ts, A_trans, Ms_trans): ## REVISION (y,n_iterations,s_1,s_2,co_s,A,co_ts,A_trans,Ms_trans)\n",
    "    #output from iterations\n",
    "    s_1 = np.zeros(n_iterations)\n",
    "    s_2 = np.zeros(n_iterations)\n",
    "    t = np.zeros(n_iterations)\n",
    "    s_1[0] = mu_s1\n",
    "    s_2[0] = mu_s2\n",
    "    for i in range(n_iterations-1):\n",
    "      t[i+1] = t_trunc(i, y, segma_t, s_1, s_2)\n",
    "      s_1[i+1] , s_2[i+1] = p_st(i, t[i+1], co_s, A, co_ts, A_trans, Ms_trans) #REV\n",
    "    return s_1, s_2, t \n",
    "      \n",
    "#Calculate t_i in order to use it in calculating the postirior p(s|t)\n",
    "def t_trunc(i, y, segma_t, s_1, s_2): # REV\n",
    "     if y==1:\n",
    "        t_t= stats.truncnorm.rvs(a=0, b= np.inf,loc = s_1[i] - s_2[i], scale= segma_t , size=1) #REV ## ASK IT --  TA.\n",
    "     elif y== -1:\n",
    "        t_t= stats.truncnorm.rvs(a=- np.inf, b=0 ,loc = s_1[i] - s_2[i] , scale= segma_t , size=1) ##ASK TA\n",
    "     return t_t\n",
    "         \n",
    "def p_st(i,t,co_s,A,co_ts,A_trans,Ms_trans): #REV\n",
    "    #segma_s|t for conditional distribution\n",
    "    co_st = np.linalg.inv(np.linalg.inv(co_s) + (A_trans* (1/co_ts**2)*A))\n",
    "    #Mu_s|t for conditional distribution\n",
    "    term1= np.linalg.inv(co_s)@Ms_trans\n",
    "    term2= A_trans* (1/co_ts**2) * t\n",
    "    M_st= co_st@(term1+ term2)\n",
    "    #s_1,s_2 = N(s_1,s_2;Mu_st;Segma_st)\n",
    "    flat_M_st=np.ravel(M_st)\n",
    "    S_1, S_2 = np.random.multivariate_normal(np.ravel(M_st), co_st) #REV\n",
    "    return S_1, S_2 # REV\n",
    "\n",
    "def gauss_posterior(x_post, S1, S2):\n",
    "  m_s1_post = np.mean(S1)\n",
    "  std_s1_post = np.std(S1)\n",
    "\n",
    "  m_s2_post = np.mean(S2)\n",
    "  std_s2_post = np.std(S2)\n",
    "\n",
    "  S1_gauss_post = stats.norm.pdf(x_post, m_s1_post, std_s1_post)\n",
    "  S2_gauss_post = stats.norm.pdf(x_post, m_s2_post, std_s2_post)\n",
    "\n",
    "  return S1_gauss_post, S2_gauss_post\n",
    "\n",
    "  \n"
   ]
  },
  {
   "cell_type": "code",
   "execution_count": 9,
   "metadata": {
    "colab": {
     "base_uri": "https://localhost:8080/",
     "height": 269
    },
    "id": "9aDdBBs14ORT",
    "outputId": "622e41c9-5478-4739-a2f2-35dafaf616b1"
   },
   "outputs": [
    {
     "data": {
      "image/png": "[encoded data removed]",
      "text/plain": [
       "<Figure size 432x288 with 1 Axes>"
      ]
     },
     "metadata": {
      "needs_background": "light"
     },
     "output_type": "display_data"
    }
   ],
   "source": [
    "SS1, SS2 ,tt = Gibbs(mu_s1,mu_s2,segma_t,y,n_iterations, co_s,A,co_ts,A_trans,Ms_trans)\n",
    "\n",
    "plt.plot(SS1,label=\"s1\")\n",
    "plt.plot(SS2,label=\"s2\")\n",
    "plt.plot(tt,label=\"tt\")\n",
    "plt.legend()\n",
    "plt.show()\n",
    "################## ASK TA FOR BURNIN "
   ]
  },
  {
   "cell_type": "code",
   "execution_count": 10,
   "metadata": {
    "colab": {
     "base_uri": "https://localhost:8080/",
     "height": 265
    },
    "id": "hntSyo1ETzaN",
    "outputId": "60aafc4c-450f-4e67-c341-a2f8109f93d3"
   },
   "outputs": [
    {
     "data": {
      "image/png": "[encoded data removed]",
      "text/plain": [
       "<Figure size 432x288 with 1 Axes>"
      ]
     },
     "metadata": {
      "needs_background": "light"
     },
     "output_type": "display_data"
    }
   ],
   "source": [
    "x_post = np.linspace(mu_s1-5*segma_s1, mu_s2+5*segma_s2, 100)\n",
    "s1_post, s2_post = gauss_posterior(x_post, SS1, SS2)\n",
    "#print(s1_post)\n",
    "plt.plot(x_post, s1_post, linewidth=2, label=\"s1_post\")\n",
    "plt.plot(x_post, s2_post, linewidth=2, label=\"s2_post\")\n",
    "plt.legend()\n",
    "plt.show()"
   ]
  },
  {
   "cell_type": "code",
   "execution_count": 11,
   "metadata": {
    "colab": {
     "base_uri": "https://localhost:8080/",
     "height": 1000
    },
    "id": "RHTAwJ85RR4O",
    "outputId": "2ccca7ae-f257-413d-a820-c1cd0786ab11"
   },
   "outputs": [
    {
     "name": "stdout",
     "output_type": "stream",
     "text": [
      "\n",
      "The no of itiration10time is 0.009778343999997219\n"
     ]
    },
    {
     "data": {
      "image/png": "[encoded data removed]",
      "text/plain": [
       "<Figure size 432x288 with 1 Axes>"
      ]
     },
     "metadata": {
      "needs_background": "light"
     },
     "output_type": "display_data"
    },
    {
     "name": "stdout",
     "output_type": "stream",
     "text": [
      "\n",
      "The no of itiration500time is 0.784456954999996\n"
     ]
    },
    {
     "data": {
      "image/png": "[encoded data removed]",
      "text/plain": [
       "<Figure size 432x288 with 1 Axes>"
      ]
     },
     "metadata": {
      "needs_background": "light"
     },
     "output_type": "display_data"
    },
    {
     "name": "stdout",
     "output_type": "stream",
     "text": [
      "\n",
      "The no of itiration1000time is 1.0555261639999998\n"
     ]
    },
    {
     "data": {
      "image/png": "[encoded data removed]",
      "text/plain": [
       "<Figure size 432x288 with 1 Axes>"
      ]
     },
     "metadata": {
      "needs_background": "light"
     },
     "output_type": "display_data"
    },
    {
     "name": "stdout",
     "output_type": "stream",
     "text": [
      "\n",
      "The no of itiration10000time is 9.295204513000002\n"
     ]
    },
    {
     "data": {
      "image/png": "[encoded data removed]",
      "text/plain": [
       "<Figure size 432x288 with 1 Axes>"
      ]
     },
     "metadata": {
      "needs_background": "light"
     },
     "output_type": "display_data"
    }
   ],
   "source": [
    "import matplotlib.pyplot as plt\n",
    "import timeit\n",
    "\n",
    "\n",
    "#Plot the histogram of the samples generated (after burn-in) together with the\n",
    "# fitted Gaussian posterior for at least four (4) \n",
    "#different numbers of samples and report the time required to draw the samples\n",
    "def plot_samples_gauss():\n",
    "  itiration_list = [10,500,1000,10000]\n",
    "  x_samples = np.linspace(mu_s1-5*segma_s2, mu_s1+5*segma_s2, 100)\n",
    "  for n in itiration_list :\n",
    "    start = timeit.default_timer()\n",
    "    S_plot1, S_plot2 ,tt = Gibbs(mu_s1,mu_s2,segma_t,y,n, co_s,A,co_ts,A_trans,Ms_trans)\n",
    "    SS_plot1, SS_plot2 = gauss_posterior(x_post, S_plot1, S_plot2)\n",
    "    stop = timeit.default_timer()\n",
    "    time_diff =stop - start\n",
    "    print(\"\\n\"+\"The no of itiration\"+ str(n)+ \"time is \"+ str(time_diff))\n",
    "    plt.hist(S_plot1, label=\"s1\", bins =50, density=True)\n",
    "    plt.plot(x_samples, SS_plot1, linewidth=2, label=\"Gaussian posterior\")\n",
    "    plt.legend()\n",
    "    \n",
    "    plt.hist(S_plot2, label=\"s2\", bins =50, density=True)\n",
    "    plt.plot(x_samples, SS_plot2, linewidth=2, label=\"Gaussian posterior\")\n",
    "    plt.legend()\n",
    "    plt.show()\n",
    "    #the more samples the more approximation in a better way for mean and varience , \n",
    "\n",
    "plot_samples_gauss()"
   ]
  },
  {
   "cell_type": "markdown",
   "metadata": {
    "id": "FuKJZyXmLBuo"
   },
   "source": [
    "#Q6.Assumed Density Filtering:\n",
    "\n",
    "The results change when the order of the match is changed"
   ]
  },
  {
   "cell_type": "code",
   "execution_count": 12,
   "metadata": {
    "id": "3cXv88SuyB9a"
   },
   "outputs": [],
   "source": [
    "def Gibbs2 (mu_s1, mu_s2, segma_s1, segma_s2, n_iteratations, y = 1):\n",
    "    \n",
    "    s_1 = np.zeros(n_iterations)\n",
    "    s_2 = np.zeros(n_iterations)\n",
    "    t = np.zeros(n_iterations)\n",
    "\n",
    "    s_1[0] = 1\n",
    "    s_2[0] = 1\n",
    "    \n",
    "    segma_t = 25/6\n",
    "    A = np.array([1,-1])\n",
    "    Ms= np.array([mu_s1,mu_s2])\n",
    "    A_trans = A[:, None]\n",
    "    Ms_trans = Ms[:, None]\n",
    "\n",
    "    co_ts = 5\n",
    "    co_s = [[segma_s1,0],[0,segma_s2]]\n",
    "\n",
    "\n",
    "    for i in range(n_iterations-1):\n",
    "      t[i+1] = t_trunc(i, y, segma_t, s_1, s_2)\n",
    "      s_1[i+1] , s_2[i+1] = p_st(i, t[i+1], co_s, A, co_ts, A_trans, Ms_trans) \n",
    "    return s_1, s_2, t \n",
    "\n"
   ]
  },
  {
   "cell_type": "code",
   "execution_count": 13,
   "metadata": {
    "id": "z1iXF2nTp5n3"
   },
   "outputs": [],
   "source": [
    "def handle_score_v2(winner_team, loser_team, teams_list):\n",
    "\n",
    "  mu_winner_team = teams_list[winner_team][0]\n",
    "  mu_loser_team = teams_list[loser_team][0]\n",
    "\n",
    "  std_winner_team = teams_list[winner_team][1]\n",
    "  std_loser_team = teams_list[loser_team][1]\n",
    "\n",
    "  SS1, SS2, t = Gibbs2(mu_winner_team, mu_loser_team, std_winner_team, std_loser_team, n_iteratations = 1000, y=1)\n",
    "  \n",
    "  return SS1,SS2,t"
   ]
  },
  {
   "cell_type": "code",
   "execution_count": 14,
   "metadata": {
    "id": "rgPAVVZC-UPr"
   },
   "outputs": [],
   "source": [
    "##Q6 -- This is the place where we need to read teams.csv files\n",
    "import pandas as pd\n",
    "import numpy as np\n",
    "\n",
    "fileurl = \"http://www.it.uu.se/edu/course/homepage/apml/project/SerieA.csv\"\n",
    "data = pd.read_csv(fileurl, na_values='?')\n",
    "\n",
    "teams = data['team1'].drop_duplicates()\n",
    "data = data.sample(frac=1).reset_index(drop=True) \n",
    "teams_list = dict()\n",
    "\n",
    "for team in teams:\n",
    "    teams_list[team] = (mu_s1, segma_s1)\n",
    "\n",
    "#print(teams_list)\n",
    "for i in range(data.shape[0]):\n",
    "  score_diff = data.iloc[i]['score1'] - data.iloc[i]['score2']\n",
    "  if score_diff > 0:\n",
    "    winner_team = data.iloc[i]['team1']\n",
    "    loser_team = data.iloc[i]['team2']\n",
    "    SS1_q6 , SS2_q6 , t = handle_score_v2(winner_team, loser_team, teams_list)\n",
    "    teams_list[winner_team] = [np.mean(SS1_q6), np.std(SS1_q6)]\n",
    "    teams_list[loser_team] = [np.mean(SS2_q6), np.std(SS2_q6)]\n",
    "    \n",
    "  elif score_diff < 0:\n",
    "    winner_team = data.iloc[i]['team2']\n",
    "    loser_team = data.iloc[i]['team1']\n",
    "    SS1_q6 , SS2_q6 , t = handle_score_v2(winner_team, loser_team, teams_list)\n",
    "    teams_list[winner_team] = [np.mean(SS1_q6), np.std(SS1_q6)]\n",
    "    teams_list[loser_team] = [np.mean(SS2_q6), np.std(SS2_q6)]\n",
    "  #print(np.mean(SS1_q6) , np.std(SS1_q6) , np.mean(SS2_q6),np.std(SS2_q6))\n",
    "  \n",
    "df = pd.DataFrame.from_dict(teams_list, orient='index', columns=['Skill', 'SD'])\n",
    "df.sort_values(by='Skill', inplace=True, ascending = False)\n",
    "df['Rank'] = range(1, len(df) + 1)\n",
    "\n"
   ]
  },
  {
   "cell_type": "code",
   "execution_count": 15,
   "metadata": {
    "colab": {
     "base_uri": "https://localhost:8080/"
    },
    "id": "sW9bZsVf2RBb",
    "outputId": "d89e588e-8bab-41f9-a69a-d28ec8230d2d"
   },
   "outputs": [
    {
     "name": "stdout",
     "output_type": "stream",
     "text": [
      "                Skill        SD  Rank\n",
      "Juventus    29.774812  1.486741     1\n",
      "Napoli      27.993903  1.454930     2\n",
      "Inter       27.732052  1.490025     3\n",
      "Roma        27.366704  1.441693     4\n",
      "Atalanta    27.274666  1.419350     5\n",
      "Lazio       25.658455  1.376494     6\n",
      "Torino      25.563485  1.368980     7\n",
      "Milan       25.489962  1.394851     8\n",
      "Sassuolo    24.691184  1.366919     9\n",
      "Sampdoria   24.590262  1.360865    10\n",
      "Spal        24.160057  1.401978    11\n",
      "Udinese     23.917723  1.347249    12\n",
      "Bologna     22.472534  1.341704    13\n",
      "Fiorentina  22.449425  1.339612    14\n",
      "Parma       22.095892  1.324566    15\n",
      "Cagliari    21.851817  1.287401    16\n",
      "Genoa       21.789774  1.272252    17\n",
      "Empoli      21.272053  1.301267    18\n",
      "Chievo      19.906518  1.250597    19\n",
      "Frosinone   19.580305  1.261948    20\n"
     ]
    }
   ],
   "source": [
    "print(df)"
   ]
  },
  {
   "cell_type": "markdown",
   "metadata": {
    "id": "3zLGgHuhLKTu"
   },
   "source": [
    "#Q7.Using the model for predictions :\n"
   ]
  },
  {
   "cell_type": "code",
   "execution_count": 16,
   "metadata": {
    "id": "3f6rpu66LvHK"
   },
   "outputs": [],
   "source": [
    "def prediction_model(m_s1_predict, std_s1_predict, m_s2_predict, std_s2_predict):\n",
    "  #define model random variables\n",
    "  S1_predict = np.random.normal(m_s1_predict, std_s1_predict, 100)\n",
    "  S2_predict = np.random.normal(m_s2_predict, std_s2_predict, 100)\n",
    "  t_predict =  np.mean(S1_predict - S2_predict)\n",
    "  y_predict = np.sign(t_predict)\n",
    "\n",
    "  return y_predict"
   ]
  },
  {
   "cell_type": "code",
   "execution_count": 17,
   "metadata": {
    "id": "74CbFm1Lw87q"
   },
   "outputs": [],
   "source": [
    "def get_true_y(data):\n",
    "  y_true = []\n",
    "  for i in range(data.shape[0]):\n",
    "    t_result = data.iloc[i]['score1'] - data.iloc[i]['score2']\n",
    "    if t_result > 0:\n",
    "      y_true.append(1)  \n",
    "    elif t_result < 0:\n",
    "      y_true.append(-1)\n",
    "    else:\n",
    "      y_true.append(0)\n",
    "  return y_true\n",
    "\n",
    "\n",
    "def comparison_predicted_and_true_result(y_true, y_predicted):\n",
    "  numberOfTruePrediction = 0\n",
    "  for i in range(len(y_true)):\n",
    "    if y_true[i] == y_predicted[i]:\n",
    "      numberOfTruePrediction = numberOfTruePrediction + 1\n",
    "  \n",
    "  truePredictedPercentageWithDraws = numberOfTruePrediction*100/ len(y_true)\n",
    "  print(\"The true rate with draws = \" + str(truePredictedPercentageWithDraws))\n",
    "  truePredictedPercentageWithoutDraws = numberOfTruePrediction*100/ (len(y_true) - y_true.count(0))\n",
    "  print(\"The true rate without draws = \" + str(truePredictedPercentageWithoutDraws))\n",
    "        "
   ]
  },
  {
   "cell_type": "code",
   "execution_count": 18,
   "metadata": {
    "id": "AWkjvg-QR8vE"
   },
   "outputs": [],
   "source": [
    "#note that the result should be\n",
    "# deterministic and that you are only allowed to use the information of previous matches in this prediction\n",
    "\n",
    "#Trueskill Model\n",
    "\n",
    "def Trueskill_model(data):\n",
    "    true_y = get_true_y(data)\n",
    "    teams = data['team1'].drop_duplicates()\n",
    "    teams_list = dict()\n",
    "\n",
    "    for team in teams:\n",
    "        teams_list[team] = (mu_s1, segma_s1)\n",
    "\n",
    "    y_predicted_list = []\n",
    "\n",
    "    for i in range(data.shape[0]):\n",
    "        #print(data.iloc[i])\n",
    "        score_diff = data.iloc[i]['score1'] - data.iloc[i]['score2']\n",
    "        y_predicted = prediction_model(teams_list[data.iloc[i]['team1']][0], teams_list[data.iloc[i]['team1']][1],\n",
    "                  teams_list[data.iloc[i]['team2']][0], teams_list[data.iloc[i]['team2']][1])\n",
    "          \n",
    "        y_predicted_list.append(y_predicted)\n",
    "        if score_diff > 0:\n",
    "          winner_team = data.iloc[i]['team1']\n",
    "          loser_team = data.iloc[i]['team2']\n",
    "          SS1_handle , SS2_handle , t = handle_score_v2(winner_team, loser_team, teams_list)\n",
    "          teams_list[winner_team] = [np.mean(SS1_handle), np.std(SS1_handle)]\n",
    "          teams_list[loser_team] = [np.mean(SS2_handle), np.std(SS2_handle)]\n",
    "          \n",
    "\n",
    "        elif score_diff < 0:\n",
    "          winner_team = data.iloc[i]['team2']\n",
    "          loser_team = data.iloc[i]['team1']\n",
    "          SS1_handle , SS2_handle , t = handle_score_v2(winner_team, loser_team, teams_list)\n",
    "          teams_list[winner_team] = [np.mean(SS1_handle), np.std(SS1_handle)]\n",
    "          teams_list[loser_team] = [np.mean(SS2_handle), np.std(SS2_handle)]\n",
    "\n",
    "\n",
    "    return true_y, y_predicted_list\n"
   ]
  },
  {
   "cell_type": "code",
   "execution_count": 19,
   "metadata": {
    "id": "7QbGWpl7G2BW"
   },
   "outputs": [],
   "source": [
    "csv_data = pd.read_csv(fileurl, na_values='?')\n",
    "true_result , result_predicted_list = Trueskill_model(csv_data)"
   ]
  },
  {
   "cell_type": "code",
   "execution_count": 20,
   "metadata": {
    "colab": {
     "base_uri": "https://localhost:8080/"
    },
    "id": "3QyBUB3uEi3v",
    "outputId": "b85d621f-2fcb-46dc-c430-e4235e11c081"
   },
   "outputs": [
    {
     "name": "stdout",
     "output_type": "stream",
     "text": [
      "The true rate with draws = 43.68421052631579\n",
      "The true rate without draws = 61.029411764705884\n"
     ]
    }
   ],
   "source": [
    "comparison_predicted_and_true_result(true_result, result_predicted_list)"
   ]
  },
  {
   "cell_type": "markdown",
   "metadata": {
    "id": "nQV3pk1GcnGK"
   },
   "source": [
    "#Q9:A message-passing algorithm"
   ]
  },
  {
   "cell_type": "code",
   "execution_count": 27,
   "metadata": {
    "colab": {
     "base_uri": "https://localhost:8080/",
     "height": 513
    },
    "id": "D7dLxbRZscBk",
    "outputId": "2c38fbab-e323-4d37-9172-35921a33547a"
   },
   "outputs": [
    {
     "data": {
      "image/png": "[encoded data removed]",
      "text/plain": [
       "<Figure size 432x288 with 1 Axes>"
      ]
     },
     "metadata": {
      "needs_background": "light"
     },
     "output_type": "display_data"
    },
    {
     "data": {
      "image/png": "[encoded data removed]",
      "text/plain": [
       "<Figure size 432x288 with 1 Axes>"
      ]
     },
     "metadata": {
      "needs_background": "light"
     },
     "output_type": "display_data"
    }
   ],
   "source": [
    "##### Q8 ##### --> Calculate p(t|y)\n",
    "\n",
    "def multiply_gauss(mean1, var1, mean2, var2):\n",
    "  var = 1 / (1 / var1 + 1 / var2)\n",
    "  mean = (mean1 / var1 + mean2 / var2) * var\n",
    "\n",
    "  return mean, var\n",
    "\n",
    "def divide_gauss(mean1, var1, mean2, var2):\n",
    "  return multiply_gauss(mean1, var1, mean2, -var2)\n",
    "\n",
    "\n",
    "def truncated_gauss(a, b, mean, var):\n",
    "  scaled_a = (a - mean) / np.sqrt(var)\n",
    "  scaled_b =(b - mean) / np.sqrt(var)\n",
    "  truncated_mean = stats.truncnorm.mean(scaled_a, scaled_b, loc=mean, scale=np.sqrt(var))\n",
    "  truncated_var = stats.truncnorm.var(scaled_a, scaled_b, loc=mean, scale=np.sqrt(var))\n",
    "   \n",
    "  return truncated_mean, truncated_var\n",
    "\n",
    "### MAIN TASK START ###\n",
    "\n",
    "def message_passing(mean1, var1, mean2, var2, t):\n",
    "  y = 1 if t > 0 else -1\n",
    "\n",
    "  #Message Mfs1 from fs1 to node s1\n",
    "  mean_of_mfs1 = mean1\n",
    "  var_of_mfs1 = var1\n",
    "\n",
    "  #Message mfs2 from fs2 to node s2\n",
    "  mean_of_mfs2 = mean2\n",
    "  var_of_mfs2 = var2\n",
    "\n",
    "  #Message ms1 from s1 to factor fs1s2t\n",
    "  mean_of_ms1 = mean_of_mfs1\n",
    "  var_of_ms1 = var_of_mfs1\n",
    "\n",
    "  #Message ms2 from s2 to factor fs1s2t\n",
    "  mean_of_ms2 = mean_of_mfs2\n",
    "  var_of_ms2 = var_of_mfs2\n",
    "\n",
    "  #Message mfs1s2t from factor f1s2t to node t\n",
    "  mean_of_mfs1s2t = mean_of_ms1 - mean_of_ms2\n",
    "  var_of_mfs1s2t = var_of_ms1 + var_of_ms2 + segma_t**2\n",
    "\n",
    "  a1, b1 = 0, 1000\n",
    "  a2, b2 = -1000, 0\n",
    "\n",
    "  if y == 1:\n",
    "    a1, b1 = -1000, 0\n",
    "    a2, b2 = 0, 1000\n",
    "  \n",
    "  mean_pt_s1, var_pt_s1 = truncated_gauss(a1, b1, mean_of_mfs1s2t, var_of_mfs1s2t)\n",
    "  mean_pt_s2, var_pt_s2 = truncated_gauss(a2, b2, mean_of_mfs1s2t, var_of_mfs1s2t)\n",
    "\n",
    "  #Message from node t to fs1s2t # Double because results used for f1s2t to s1 and s2\n",
    "  inverse_fs1s2t_1 = divide_gauss(mean_pt_s1, var_pt_s1, mean_of_mfs1s2t, var_of_mfs1s2t)\n",
    "  inverse_fs1s2t_2 = divide_gauss(mean_pt_s2, var_pt_s1, var_pt_s2, var_of_mfs1s2t)\n",
    "\n",
    "\n",
    "  #Message from fs1s2t to s1 and s2\n",
    "  mean_of_fs1s2t_to_s1 = mean_of_ms2 - mean_pt_s1\n",
    "  var_of_fs1s2t_to_s1 = var_of_ms2 + var_pt_s1 + segma_t**2\n",
    "  \n",
    "  mean_of_fs1s2t_to_s2 = mean_of_ms1 - mean_pt_s2\n",
    "  var_of_fs1s2t_to_s2 = var_of_ms1 + var_pt_s2 + segma_t**2\n",
    "\n",
    "\n",
    "  #S-Marginal returning\n",
    "  mean_ps1, var_ps1 = multiply_gauss(mean_of_mfs1, var_of_mfs1, mean_of_fs1s2t_to_s1, var_of_fs1s2t_to_s1)\n",
    "  mean_ps2, var_ps2 = multiply_gauss(mean_of_mfs2, var_of_mfs2, mean_of_fs1s2t_to_s2, var_of_fs1s2t_to_s2)\n",
    "\n",
    "  return mean_ps1, var_ps1, mean_ps2, var_ps2\n",
    "\n",
    "  \n",
    "## Intialize variables##\n",
    "mu_s1_message = 25             # Mu p(s_1)\n",
    "segma_s1_message = (25/3)**2  # varience p(s_1)\n",
    "mu_s2_message = 25             # Mu p(s_2)\n",
    "segma_s2_message = (25/3)**2  # varience p(s_2)\n",
    "co_ts_message = (25/6)**2     # varience p(t|s_1,s_2)\n",
    "t_message = 1                # t\n",
    "\n",
    "segma_s1 = 25/3\n",
    "mu_s1 = 25\n",
    "\n",
    "\n",
    "  # PLOTTING\n",
    "x = np.linspace(mu_s1 - 5*segma_s1, mu_s1 + 5*segma_s1, 100)\n",
    "mean_ps1, var_ps1, mean_ps2, var_ps2 = message_passing(mu_s1_message, segma_s1_message, mu_s2_message, segma_s2_message, t_message)\n",
    "\n",
    "s1_norm = np.random.normal(mean_ps1, np.sqrt(var_ps1), 100)\n",
    "s2_norm = np.random.normal(mean_ps2, np.sqrt(var_ps2), 100)\n",
    "\n",
    "#Making pdf\n",
    "mu_s1 = np.mean(s1_norm)\n",
    "var_s1 = np.var(s1_norm)\n",
    "mu_s2 = np.mean(s2_norm)\n",
    "var_s2 = np.var(s2_norm)\n",
    "\n",
    "\n",
    "s1_pdf = stats.norm.pdf(x, mu_s1, np.sqrt(var_s1))\n",
    "s2_pdf = stats.norm.pdf(x, mu_s2, np.sqrt(var_s2))\n",
    "\n",
    "S_plot1, S_plot2, tt = Gibbs(mu_s1,mu_s2,segma_t,y,n_iterations, co_s,A,co_ts,A_trans,Ms_trans)\n",
    "SS_plot1_q8, SS_plot2_q8 = gauss_posterior(x, S_plot1, S_plot2)\n",
    "\n",
    "\n",
    "#Make a plot\n",
    "plt.hist(S_plot1, label=\"s1, Gibbs sampling\", bins =50, density=True)\n",
    "plt.plot(x, s1_pdf, linewidth=2, label=\"s1, message passing\")\n",
    "#plt.hist(S_plot1, label=\"s1, Gibbs sampling\", bins =50, density=True)\n",
    "#plt.hist(S_plot2, label=\"s2, Gibbs sampling\", bins =50, density=True)\n",
    "plt.legend()\n",
    "plt.show()\n",
    "\n",
    "plt.hist(S_plot2, label=\"s2, Gibbs sampling\", bins =50, density=True)\n",
    "plt.plot(x, s2_pdf, linewidth=2, label=\"s2, message passing\")\n",
    "#plt.hist(S_plot2, label=\"s2, Gibbs sampling\", bins =50, density=True)\n",
    "plt.legend()\n",
    "plt.show()\n",
    "\n",
    "\n",
    "\n",
    "\n"
   ]
  },
  {
   "cell_type": "markdown",
   "metadata": {
    "id": "SvA6bHM1cuy3"
   },
   "source": [
    "#Q10:Your own data"
   ]
  },
  {
   "cell_type": "code",
   "execution_count": 22,
   "metadata": {
    "colab": {
     "base_uri": "https://localhost:8080/",
     "height": 443
    },
    "id": "PN5GBj09c1an",
    "outputId": "26b2e0a3-a826-4399-ac5b-d42e73322bfd"
   },
   "outputs": [
    {
     "name": "stdout",
     "output_type": "stream",
     "text": [
      "The true rate with draws = 53.89457120377656\n",
      "The true rate without draws = 53.89457120377656\n"
     ]
    },
    {
     "data": {
      "text/plain": [
       "1271"
      ]
     },
     "execution_count": 22,
     "metadata": {},
     "output_type": "execute_result"
    }
   ],
   "source": [
    "hocky = pd.read_csv(\"hockey.csv\")\n",
    "hocky_proccessed = hocky[[\"Visitor\", \"Home\",\"G\",\"G.1\"]].rename(columns={'Visitor': 'team1', 'Home': 'team2',\n",
    "                                                     'G': 'score1','G.1': 'score2'})\n",
    "\n",
    "true_result_hocky , result_predicted_list_hocky = Trueskill_model(hocky_proccessed)\n",
    "len(result_predicted_list_hocky)\n",
    "comparison_predicted_and_true_result(true_result_hocky, result_predicted_list_hocky)\n",
    "\n",
    "hocky_proccessed.shape[0]"
   ]
  },
  {
   "cell_type": "code",
   "execution_count": 23,
   "metadata": {
    "id": "mjqurPNy5B4m"
   },
   "outputs": [
    {
     "data": {
      "text/html": [
       "<div>\n",
       "<style scoped>\n",
       "    .dataframe tbody tr th:only-of-type {\n",
       "        vertical-align: middle;\n",
       "    }\n",
       "\n",
       "    .dataframe tbody tr th {\n",
       "        vertical-align: top;\n",
       "    }\n",
       "\n",
       "    .dataframe thead th {\n",
       "        text-align: right;\n",
       "    }\n",
       "</style>\n",
       "<table border=\"1\" class=\"dataframe\">\n",
       "  <thead>\n",
       "    <tr style=\"text-align: right;\">\n",
       "      <th></th>\n",
       "      <th>team1</th>\n",
       "      <th>team2</th>\n",
       "      <th>score1</th>\n",
       "      <th>score2</th>\n",
       "    </tr>\n",
       "  </thead>\n",
       "  <tbody>\n",
       "    <tr>\n",
       "      <th>0</th>\n",
       "      <td>Anaheim Ducks</td>\n",
       "      <td>San Jose Sharks</td>\n",
       "      <td>5</td>\n",
       "      <td>2</td>\n",
       "    </tr>\n",
       "    <tr>\n",
       "      <th>1</th>\n",
       "      <td>Montreal Canadiens</td>\n",
       "      <td>Toronto Maple Leafs</td>\n",
       "      <td>2</td>\n",
       "      <td>3</td>\n",
       "    </tr>\n",
       "    <tr>\n",
       "      <th>2</th>\n",
       "      <td>Calgary Flames</td>\n",
       "      <td>Vancouver Canucks</td>\n",
       "      <td>2</td>\n",
       "      <td>5</td>\n",
       "    </tr>\n",
       "    <tr>\n",
       "      <th>3</th>\n",
       "      <td>Boston Bruins</td>\n",
       "      <td>Washington Capitals</td>\n",
       "      <td>0</td>\n",
       "      <td>7</td>\n",
       "    </tr>\n",
       "    <tr>\n",
       "      <th>4</th>\n",
       "      <td>Boston Bruins</td>\n",
       "      <td>Buffalo Sabres</td>\n",
       "      <td>4</td>\n",
       "      <td>0</td>\n",
       "    </tr>\n",
       "    <tr>\n",
       "      <th>...</th>\n",
       "      <td>...</td>\n",
       "      <td>...</td>\n",
       "      <td>...</td>\n",
       "      <td>...</td>\n",
       "    </tr>\n",
       "    <tr>\n",
       "      <th>1266</th>\n",
       "      <td>Carolina Hurricanes</td>\n",
       "      <td>Philadelphia Flyers</td>\n",
       "      <td>4</td>\n",
       "      <td>3</td>\n",
       "    </tr>\n",
       "    <tr>\n",
       "      <th>1267</th>\n",
       "      <td>New York Rangers</td>\n",
       "      <td>Pittsburgh Penguins</td>\n",
       "      <td>4</td>\n",
       "      <td>3</td>\n",
       "    </tr>\n",
       "    <tr>\n",
       "      <th>1268</th>\n",
       "      <td>Colorado Avalanche</td>\n",
       "      <td>San Jose Sharks</td>\n",
       "      <td>2</td>\n",
       "      <td>5</td>\n",
       "    </tr>\n",
       "    <tr>\n",
       "      <th>1269</th>\n",
       "      <td>Vancouver Canucks</td>\n",
       "      <td>St. Louis Blues</td>\n",
       "      <td>2</td>\n",
       "      <td>3</td>\n",
       "    </tr>\n",
       "    <tr>\n",
       "      <th>1270</th>\n",
       "      <td>New York Islanders</td>\n",
       "      <td>Washington Capitals</td>\n",
       "      <td>3</td>\n",
       "      <td>0</td>\n",
       "    </tr>\n",
       "  </tbody>\n",
       "</table>\n",
       "<p>1271 rows × 4 columns</p>\n",
       "</div>"
      ],
      "text/plain": [
       "                    team1                team2  score1  score2\n",
       "0           Anaheim Ducks      San Jose Sharks       5       2\n",
       "1      Montreal Canadiens  Toronto Maple Leafs       2       3\n",
       "2          Calgary Flames    Vancouver Canucks       2       5\n",
       "3           Boston Bruins  Washington Capitals       0       7\n",
       "4           Boston Bruins       Buffalo Sabres       4       0\n",
       "...                   ...                  ...     ...     ...\n",
       "1266  Carolina Hurricanes  Philadelphia Flyers       4       3\n",
       "1267     New York Rangers  Pittsburgh Penguins       4       3\n",
       "1268   Colorado Avalanche      San Jose Sharks       2       5\n",
       "1269    Vancouver Canucks      St. Louis Blues       2       3\n",
       "1270   New York Islanders  Washington Capitals       3       0\n",
       "\n",
       "[1271 rows x 4 columns]"
      ]
     },
     "execution_count": 23,
     "metadata": {},
     "output_type": "execute_result"
    }
   ],
   "source": [
    "hocky_proccessed"
   ]
  },
  {
   "cell_type": "code",
   "execution_count": 36,
   "metadata": {
    "id": "hPdFlpuvqnF4"
   },
   "outputs": [],
   "source": [
    "### Q11 ####\n",
    "\n",
    "import random\n",
    "\n",
    "\n",
    "#mu_s1 = 25\n",
    "#segma_s1 = (25/3)\n",
    "\n",
    "def prediction_model_new(m_s1_predict, std_s1_predict, m_s2_predict, std_s2_predict, i):\n",
    "  #define model random variables\n",
    "\n",
    "  S1_predict = np.random.normal(m_s1_predict, std_s1_predict, 100)\n",
    "  S2_predict = np.random.normal(m_s2_predict, std_s2_predict, 100)\n",
    "  t_predict =  np.mean(S1_predict - S2_predict)\n",
    "\n",
    "  rand = random.randint(0,2) + 1\n",
    "\n",
    "  if i % rand == 0 and abs(t_predict < 0.1):\n",
    "    return 0\n",
    "  else:\n",
    "    return np.sign(t_predict)\n",
    "\n",
    "\n",
    "\n",
    "def Trueskill_model_new(data):\n",
    "    true_y = get_true_y(data)\n",
    "    teams = data['team1'].drop_duplicates()\n",
    "    teams_list = dict()\n",
    "\n",
    "    for team in teams:\n",
    "        teams_list[team] = (mu_s1, segma_s1)\n",
    "\n",
    "    y_predicted_list = []\n",
    "\n",
    "    for i in range(data.shape[0]):\n",
    "        #print(data.iloc[i])\n",
    "        score_diff = data.iloc[i]['score1'] - data.iloc[i]['score2']\n",
    "        y_predicted = prediction_model_new(teams_list[data.iloc[i]['team1']][0], teams_list[data.iloc[i]['team1']][1],\n",
    "                  teams_list[data.iloc[i]['team2']][0], teams_list[data.iloc[i]['team2']][1], i)\n",
    "          \n",
    "        y_predicted_list.append(y_predicted)\n",
    "        if score_diff > 0:\n",
    "          winner_team = data.iloc[i]['team1']\n",
    "          loser_team = data.iloc[i]['team2']\n",
    "          SS1_handle , SS2_handle , t = handle_score_v2(winner_team, loser_team, teams_list)\n",
    "          teams_list[winner_team] = [np.mean(SS1_handle), np.std(SS1_handle)]\n",
    "          teams_list[loser_team] = [np.mean(SS2_handle), np.std(SS2_handle)]\n",
    "          \n",
    "\n",
    "        elif score_diff < 0:\n",
    "          winner_team = data.iloc[i]['team2']\n",
    "          loser_team = data.iloc[i]['team1']\n",
    "          SS1_handle , SS2_handle , t = handle_score_v2(winner_team, loser_team, teams_list)\n",
    "          teams_list[winner_team] = [np.mean(SS1_handle), np.std(SS1_handle)]\n",
    "          teams_list[loser_team] = [np.mean(SS2_handle), np.std(SS2_handle)]\n",
    "\n",
    "\n",
    "    return true_y, y_predicted_list\n"
   ]
  },
  {
   "cell_type": "code",
   "execution_count": 37,
   "metadata": {
    "id": "DLTaRXJVrYo0"
   },
   "outputs": [],
   "source": [
    "csv_data = pd.read_csv(fileurl, na_values='?')\n",
    "true_result , result_predicted_list = Trueskill_model_new(csv_data)"
   ]
  },
  {
   "cell_type": "code",
   "execution_count": null,
   "metadata": {},
   "outputs": [],
   "source": [
    "comparison_predicted_and_true_result(true_result, result_predicted_list)"
   ]
  }
 ],
 "metadata": {
  "colab": {
   "collapsed_sections": [],
   "name": "Ml project group 6",
   "provenance": []
  },
  "kernelspec": {
   "display_name": "Python 3",
   "language": "python",
   "name": "python3"
  },
  "language_info": {
   "codemirror_mode": {
    "name": "ipython",
    "version": 3
   },
   "file_extension": ".py",
   "mimetype": "text/x-python",
   "name": "python",
   "nbconvert_exporter": "python",
   "pygments_lexer": "ipython3",
   "version": "3.8.5"
  }
 },
 "nbformat": 4,
 "nbformat_minor": 1
}
